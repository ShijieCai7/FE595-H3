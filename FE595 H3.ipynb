{
 "cells": [
  {
   "cell_type": "code",
   "execution_count": 28,
   "metadata": {},
   "outputs": [],
   "source": [
    "# Write a script to clean and organize that data into a single file for male characters \n",
    "# and a single file for female characters.\n",
    "import os\n",
    "from pathlib import Path\n",
    "\n",
    "male_out = open(\"All_male.txt\", \"w\")\n",
    "female_out = open(\"All_female.txt\", \"w\")\n",
    "base_dir = \"/Users/shijiecai/Desktop/ALL data together/\"\n",
    "dirs = os.listdir(base_dir)\n",
    "\n",
    "for directory in dirs:\n",
    "    path = base_dir + directory + \"/\"\n",
    "    my_file = Path(path)\n",
    "    if my_file.is_dir():\n",
    "        filenames = os.listdir(path)\n",
    "        for filename in filenames:\n",
    "            if filename.startswith(\"female\"):\n",
    "                fp = open(path + \"/\" + filename)\n",
    "                for line in fp:\n",
    "                    line = line.strip()\n",
    "                    if line.startswith(\"She's\"):\n",
    "                        female_out.write(line+\"\\n\")\n",
    "            else:\n",
    "                fp = open(path + \"/\" + filename)\n",
    "                for line in fp:\n",
    "                    line = line.strip()\n",
    "                    if line.startswith(\"He's\"):\n",
    "                        male_out.write(line+\"\\n\")\n",
    "female_out.close()\n",
    "male_out.close()"
   ]
  },
  {
   "cell_type": "code",
   "execution_count": 29,
   "metadata": {},
   "outputs": [
    {
     "name": "stdout",
     "output_type": "stream",
     "text": [
      "Requirement already satisfied: textblob in /anaconda3/lib/python3.7/site-packages (0.15.3)\r\n",
      "Requirement already satisfied: nltk>=3.1 in /anaconda3/lib/python3.7/site-packages (from textblob) (3.4.4)\r\n",
      "Requirement already satisfied: six in /anaconda3/lib/python3.7/site-packages (from nltk>=3.1->textblob) (1.12.0)\r\n"
     ]
    }
   ],
   "source": [
    "! pip install textblob\n",
    "import nltk\n",
    "from  textblob import TextBlob\n",
    "\n",
    "with open('/Users/shijiecai/Desktop/ALL data together/male.txt', 'r') as f:\n",
    "    male = f.read()\n",
    "\n",
    "with open('/Users/shijiecai/Desktop/ALL data together/female.txt', 'r') as g:\n",
    "    female = g.read()"
   ]
  },
  {
   "cell_type": "code",
   "execution_count": 30,
   "metadata": {},
   "outputs": [],
   "source": [
    "#  Sort all of the characters based on sentiment. Submit top 10 male, top 10 female, bottom 10 male, bottom 10 female.\n",
    "m_sentiment = []\n",
    "m_sen = male.splitlines()\n",
    "for i in range(len(m_sen)):\n",
    "    m = TextBlob(m_sen[i])\n",
    "    m_sentiment.append((i, m.sentiment[0]))\n",
    "\n",
    "sorted_m = sorted(m_sentiment, key=lambda x: x[1], reverse=True)\n",
    "\n",
    "f_sentiment = []\n",
    "f_sen = female.splitlines()\n",
    "for j in range(len(f_sen)):\n",
    "    f = TextBlob(f_sen[j])\n",
    "    f_sentiment.append((j, f.sentiment[0]))\n",
    "\n",
    "sorted_f = sorted(f_sentiment, key=lambda x: x[1], reverse=True)\n",
    "\n",
    "top_male = []\n",
    "bottom_male = []\n",
    "top_female = []\n",
    "bottom_female = []"
   ]
  },
  {
   "cell_type": "code",
   "execution_count": 32,
   "metadata": {},
   "outputs": [
    {
     "name": "stdout",
     "output_type": "stream",
     "text": [
      "Top 10 male: \n",
      "He's a superhumanly strong flyboy romance novelist in a wheelchair.\n",
      "He's a superhumanly strong devious ex-con who must take medication to keep him sane.\n",
      "He's a superhumanly strong vegetarian vagrant from the 'hood.\n",
      "He's a superhumanly strong flyboy romance novelist from a doomed world,\n",
      "He's an immortal gay hairdresser haunted by memories of 'Nam\n",
      "He's a leather-clad gay vampire hunter on the run.\n",
      "He's a war-weary gay cowboy who must take medication to keep him sane\n",
      "He's an obese gay grifter from the Mississippi delta.\n",
      "He's a superhumanly strong small-town paranormal investigator on the hunt for the last specimen of a great and near-mythical creature.\n",
      "He's a superhumanly strong zombie rock star on the hunt for the last specimen of a great and near-mythical creature.\n",
      "Top 10 female:\n",
      "She's a brilliant tomboy stripper trying to make a difference in a man's world.\n",
      "She's a brilliant mute pearl diver on her way to prison for a murder she didn't commit.\n",
      "She's a brilliant French-Canadian wrestler with a flame-thrower\n",
      "She's an enchanted belly-dancing Hell's Angel with an incredible destiny\n",
      "She's a brilliant motormouth bodyguard with an incredible destiny.\n",
      "She's a mistrustful snooty detective with an incredible destiny\n",
      "She's a cold-hearted snooty bodyguard with an incredible destiny.\n",
      "She's a scantily clad winged detective with an incredible destiny\n",
      "She's a brilliant antique-collecting fairy princess with the power to bend men's minds\n",
      "She's a brilliant insomniac Hell's Angel from beyond the grave.\n",
      "Bottom 10 male:\n",
      "He's a superhumanly strong flyboy romance novelist in a wheelchair.\n",
      "He's a war-weary zombie stage actor plagued by the memory of his family's brutal murder.\n",
      "He's a jaded Amish cowboy plagued by the memory of his family's brutal murder.\n",
      "He's an obese albino shaman plagued by the memory of his family's brutal murder.\n",
      "He's a benighted drug-addicted messiah plagued by the memory of his family's brutal murder.\n",
      "He's a one-legged devious paranormal investigator plagued by the memory of his family's brutal murder.\n",
      "He's a leather-clad one-eyed filmmaker plagued by the memory of his family's brutal murder.\n",
      "He's an old-fashioned playboy grifter plagued by the memory of his family's brutal murder.\n",
      "He's a hate-fuelled playboy firefighter plagued by the memory of his family's brutal murder\n",
      "He's a genetically engineered moralistic dog-catcher plagued by the memory of his family's brutal murder\n",
      "Bottom 10 female:\n",
      "She's a brilliant tomboy stripper trying to make a difference in a man's world.\n",
      "She's a tortured hip-hop barmaid with an evil twin sister,\n",
      "She's a virginal African-American cab driver with an evil twin sister,\n",
      "She's a mistrustful tempestuous magician's assistant with an evil twin sister.\n",
      "She's a virginal streetsmart femme fatale with an evil twin sister.\n",
      "She's an orphaned mute stripper with an evil twin sister\n",
      "She's a man-hating green-skinned soap star with an evil twin sister\n",
      "She's a strong-willed kleptomaniac politician with an evil twin sister.\n",
      "She's an orphaned cat-loving college professor with an evil twin sister.\n",
      "She's a ditzy cat-loving politician with an evil twin sister.\n"
     ]
    }
   ],
   "source": [
    "for i in range(10):\n",
    "    top_male.append(m_sen[sorted_m[i][0]])\n",
    "    top_female.append(f_sen[sorted_f[i][0]])\n",
    "\n",
    "    bottom_male.append(m_sen[sorted_m[-i][0]])\n",
    "    bottom_female.append(f_sen[sorted_f[-i][0]])\n",
    "\n",
    "with open(\"Top_10_male.txt\", 'w') as f:\n",
    "    print(\"Top 10 male: \")\n",
    "    for i in top_male:\n",
    "        print(i)\n",
    "        f.write(i + '\\n')\n",
    "\n",
    "with open(\"Top_10_female.txt\", 'w') as f:\n",
    "    print(\"Top 10 female:\")\n",
    "    for i in top_female:\n",
    "        print(i)\n",
    "        f.write(i + '\\n')\n",
    "with open(\"Bottom_10_of_male.txt\", 'w') as f:\n",
    "    print(\"Bottom 10 male:\")\n",
    "    for i in bottom_male:\n",
    "        print(i)\n",
    "        f.write(i + '\\n')\n",
    "\n",
    "with open(\"Bottom_10_of_female.txt\", 'w') as f:\n",
    "    print(\"Bottom 10 female:\")\n",
    "    for i in bottom_female:\n",
    "        print(i)\n",
    "        f.write(i + '\\n')"
   ]
  },
  {
   "cell_type": "code",
   "execution_count": 31,
   "metadata": {},
   "outputs": [
    {
     "name": "stderr",
     "output_type": "stream",
     "text": [
      "[nltk_data] Downloading package punkt to /Users/shijiecai/nltk_data...\n",
      "[nltk_data]   Package punkt is already up-to-date!\n",
      "[nltk_data] Downloading package stopwords to\n",
      "[nltk_data]     /Users/shijiecai/nltk_data...\n",
      "[nltk_data]   Package stopwords is already up-to-date!\n"
     ]
    },
    {
     "name": "stdout",
     "output_type": "stream",
     "text": [
      "Most 10 common descriptors:\n",
      "('wrong', 104)\n",
      "('secret', 63)\n",
      "('living', 59)\n",
      "('town', 54)\n",
      "('believes', 50)\n",
      "('time', 50)\n",
      "('world', 48)\n",
      "('side', 47)\n",
      "('star', 44)\n",
      "('fleeing', 43)\n"
     ]
    }
   ],
   "source": [
    "# Find the 10 most common descriptors along with how often they appear in my data.\n",
    "nltk.download('punkt')\n",
    "nltk.download('stopwords')\n",
    "data = male + female\n",
    "tokens = nltk.word_tokenize(data)\n",
    "stop_words = nltk.corpus.stopwords.words('english')\n",
    "words = [each.lower() for each in tokens if each.lower() not in stop_words and each.isalpha()]\n",
    "feq = nltk.FreqDist(words)\n",
    "most_10 = feq.most_common(10)\n",
    "\n",
    "with open('Most_10_common.txt', 'w')as f:\n",
    "    print(\"Most 10 common descriptors:\")\n",
    "    for i in most_10:\n",
    "        print(i)\n",
    "        f.write(str(i) + '\\n')"
   ]
  }
 ],
 "metadata": {
  "kernelspec": {
   "display_name": "Python 3",
   "language": "python",
   "name": "python3"
  },
  "language_info": {
   "codemirror_mode": {
    "name": "ipython",
    "version": 3
   },
   "file_extension": ".py",
   "mimetype": "text/x-python",
   "name": "python",
   "nbconvert_exporter": "python",
   "pygments_lexer": "ipython3",
   "version": "3.7.3"
  }
 },
 "nbformat": 4,
 "nbformat_minor": 2
}
